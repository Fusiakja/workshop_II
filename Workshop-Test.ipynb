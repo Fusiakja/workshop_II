{
 "cells": [
  {
   "cell_type": "code",
   "execution_count": 15,
   "id": "240576b3",
   "metadata": {
    "tags": []
   },
   "outputs": [],
   "source": [
    "from IPython.display import display \n",
    "import ipywidgets as widgets \n",
    "from ipywidgets import interact, Layout "
   ]
  },
  {
   "cell_type": "code",
   "execution_count": 16,
   "id": "76501185",
   "metadata": {
    "tags": []
   },
   "outputs": [
    {
     "data": {
      "application/vnd.jupyter.widget-view+json": {
       "model_id": "e12d29183f954c52931c0b11684d6b96",
       "version_major": 2,
       "version_minor": 0
      },
      "text/plain": [
       "IntSlider(value=7, description='IntSlider:', max=10)"
      ]
     },
     "execution_count": 16,
     "metadata": {},
     "output_type": "execute_result"
    }
   ],
   "source": [
    "from ipywidgets import IntSlider \n",
    "IntSlider(value=7,min=0,max=10,step=1,\n",
    "          description='IntSlider:',orientation='horizontal')"
   ]
  },
  {
   "cell_type": "code",
   "execution_count": 30,
   "id": "5f491aca",
   "metadata": {
    "tags": []
   },
   "outputs": [
    {
     "data": {
      "application/vnd.jupyter.widget-view+json": {
       "model_id": "67e066a0bfdd4e33ae4fde5887b501e8",
       "version_major": 2,
       "version_minor": 0
      },
      "text/plain": [
       "Text(value='Text eingeben', description='Text-Widget: ')"
      ]
     },
     "metadata": {},
     "output_type": "display_data"
    },
    {
     "data": {
      "application/vnd.jupyter.widget-view+json": {
       "model_id": "2c38d7fa22084f20b3e5f9834ffb5282",
       "version_major": 2,
       "version_minor": 0
      },
      "text/plain": [
       "IntSlider(value=7, description='IntSlider: ', max=10)"
      ]
     },
     "metadata": {},
     "output_type": "display_data"
    },
    {
     "data": {
      "application/vnd.jupyter.widget-view+json": {
       "model_id": "b42806366ac4411196f811bb186715f3",
       "version_major": 2,
       "version_minor": 0
      },
      "text/plain": [
       "Dropdown(description='Dropdown: ', index=1, options=('1', '2', '3'), value='2')"
      ]
     },
     "metadata": {},
     "output_type": "display_data"
    },
    {
     "name": "stdout",
     "output_type": "stream",
     "text": [
      "Text eingeben\n"
     ]
    }
   ],
   "source": [
    "from ipywidgets import Text, IntSlider, Dropdown\n",
    "# Erstelle ein neues Text-Eingabefeld tb1 und zeige es an.\n",
    "tb1 = Text(value='Text eingeben', \n",
    "                   description='Text-Widget: ')\n",
    "display(tb1)\n",
    "# Erstelle IntSlider-Widget is1 und zeige es an.\n",
    "is1 = IntSlider(value=7, min=0, max=10, \n",
    "                        step=1, description='IntSlider: ')\n",
    "display(is1)\n",
    "# Erstelle Dropdown-Widget dd1 und zeige es an\n",
    "dd1 = Dropdown(options=['1', '2', '3'], \n",
    "                       value='2', description='Dropdown: ')\n",
    "display(dd1)\n",
    "\n",
    "print(tb1.value)"
   ]
  },
  {
   "cell_type": "code",
   "execution_count": 18,
   "id": "7b518efe",
   "metadata": {
    "tags": []
   },
   "outputs": [
    {
     "data": {
      "application/vnd.jupyter.widget-view+json": {
       "model_id": "ec4e01b348ef4211b63acae11430cc4b",
       "version_major": 2,
       "version_minor": 0
      },
      "text/plain": [
       "Text(value='', description='a')"
      ]
     },
     "metadata": {},
     "output_type": "display_data"
    },
    {
     "data": {
      "application/vnd.jupyter.widget-view+json": {
       "model_id": "d47bd9bf08794620827e685eef96cd98",
       "version_major": 2,
       "version_minor": 0
      },
      "text/plain": [
       "Text(value='', description='b')"
      ]
     },
     "metadata": {},
     "output_type": "display_data"
    },
    {
     "data": {
      "application/vnd.jupyter.widget-view+json": {
       "model_id": "2ead9eb48d7145b4b7f09c800d00b0df",
       "version_major": 2,
       "version_minor": 0
      },
      "text/plain": [
       "Button(description='Calc!', layout=Layout(width='200px'), style=ButtonStyle(button_color='red'))"
      ]
     },
     "metadata": {},
     "output_type": "display_data"
    },
    {
     "data": {
      "application/vnd.jupyter.widget-view+json": {
       "model_id": "7b4cdd16881e4d18b44ddb7ac84d7e67",
       "version_major": 2,
       "version_minor": 0
      },
      "text/plain": [
       "Text(value='', description='Summe')"
      ]
     },
     "metadata": {},
     "output_type": "display_data"
    }
   ],
   "source": [
    "import ipywidgets\n",
    "from ipywidgets import Text, Button\n",
    "# Erstelle zwei Text-Eingabefelder\n",
    "textbox1 = Text(description='a'); display(textbox1)\n",
    "textbox2 = Text(description='b');display(textbox2)\n",
    "# ... einen Button\n",
    "button = Button(description='Calc!', \n",
    "                        layout=Layout(width='200px'))\n",
    "button.style.button_color = 'red'\n",
    "display(button)\n",
    "# ... und ein Text-Ausgabefeld für die Summe\n",
    "textbox3 = Text(description='Summe')\n",
    "display(textbox3)\n",
    "# Definiere Eventhandler für den Button\n",
    "def on_button_clicked(sender):\n",
    "    a = int(textbox1.value)\n",
    "    b = int(textbox2.value)\n",
    "    textbox3.value = str(a+b)\n",
    "# ... und weise ihn dem on_click-Ereignis zu\n",
    "button.on_click(on_button_clicked)"
   ]
  },
  {
   "cell_type": "code",
   "execution_count": 19,
   "id": "5ad704e6",
   "metadata": {
    "tags": []
   },
   "outputs": [
    {
     "data": {
      "application/vnd.jupyter.widget-view+json": {
       "model_id": "e5401c18c5e44df896f174d5409f9b44",
       "version_major": 2,
       "version_minor": 0
      },
      "text/plain": [
       "interactive(children=(Dropdown(description='x', options=(1, 2, 3), value=1), Output()), _dom_classes=('widget-…"
      ]
     },
     "metadata": {},
     "output_type": "display_data"
    }
   ],
   "source": [
    " # myfunc1 gibt einen Text aus, der von x abhängt \n",
    " def myfunc1(x):  \n",
    "     print('Auswahl: ' + str(x)) \n",
    " # interact erzeugt Dropdown-Widget \n",
    " interact(myfunc1, x = [1, 2, 3]); "
   ]
  },
  {
   "cell_type": "code",
   "execution_count": 20,
   "id": "fde515ea",
   "metadata": {
    "tags": []
   },
   "outputs": [
    {
     "data": {
      "application/vnd.jupyter.widget-view+json": {
       "model_id": "6085e9e2ad2d4e54b2604cef89502d9a",
       "version_major": 2,
       "version_minor": 0
      },
      "text/plain": [
       "interactive(children=(Text(value='Text eingeben', description='x'), Output()), _dom_classes=('widget-interact'…"
      ]
     },
     "metadata": {},
     "output_type": "display_data"
    }
   ],
   "source": [
    " # myfunc2 gibt den eingegebenen Text aus \n",
    " def myfunc2(x):  \n",
    "     print('Ihre Eingabe: ' + str(x)) \n",
    " interact(myfunc2, x = 'Text eingeben'); "
   ]
  },
  {
   "cell_type": "code",
   "execution_count": 21,
   "id": "0eac0a4b",
   "metadata": {
    "tags": []
   },
   "outputs": [
    {
     "data": {
      "application/vnd.jupyter.widget-view+json": {
       "model_id": "7bef8260b0cb42869451ad138c404c5e",
       "version_major": 2,
       "version_minor": 0
      },
      "text/plain": [
       "interactive(children=(FloatSlider(value=7.0685834705770345, description='xmax', max=12.566370614359172, min=1.…"
      ]
     },
     "metadata": {},
     "output_type": "display_data"
    }
   ],
   "source": [
    " import matplotlib.pyplot as plt \n",
    " from numpy import arange,sin,pi \n",
    " # Definiere myplot-Funktion  \n",
    " def myplot(xmax): \n",
    "     x = arange(0, xmax, 0.01);y = sin(2*pi*x); \n",
    "     plt.plot(x,y); \n",
    " # Erstelle ein Widget für den Plot mit Hilfe von interact \n",
    " interact(myplot, xmax = (pi/2,4*pi)); "
   ]
  },
  {
   "cell_type": "code",
   "execution_count": 22,
   "id": "e53dad98",
   "metadata": {
    "tags": []
   },
   "outputs": [],
   "source": [
    "import pandas as pd\n",
    "def display_dataframe(df, rows=6, cols=6):\n",
    "    with pd.option_context('display.max_rows', rows, \n",
    "                    'display.max_columns', cols):  \n",
    "        display(df)\n",
    "def select_data(spalten): \n",
    "    df2 = df.loc[:,spalten];  \n",
    "    ax = df2.plot(); \n",
    "    ax.set_ylabel('Tägl. Verbrauch (GWh)'); "
   ]
  },
  {
   "cell_type": "code",
   "execution_count": 23,
   "id": "8206a384",
   "metadata": {
    "tags": []
   },
   "outputs": [
    {
     "data": {
      "application/vnd.jupyter.widget-view+json": {
       "model_id": "bd9f9c24b83a4fd2832cc7119cd28cee",
       "version_major": 2,
       "version_minor": 0
      },
      "text/plain": [
       "Tab(children=(Output(), Output()), layout=Layout(width='70%'), selected_index=0, titles=('Daten', 'Grafik'))"
      ]
     },
     "metadata": {},
     "output_type": "display_data"
    }
   ],
   "source": [
    "out1, out2 = widgets.Output(), widgets.Output()\n",
    "with out1:\n",
    "    file = 'opsd_2018.csv'\n",
    "    df = pd.read_csv(file, header=0, sep = \",\", index_col=0, parse_dates=True) \n",
    "    display_dataframe(df)\n",
    "with out2: \n",
    "    ui_spalten = widgets.Dropdown(description='Auswahl:', \n",
    "                                  options=df.columns[0:], value='Verbrauch', \n",
    "                                  layout=Layout(width='auto'))\n",
    "    out = widgets.interactive_output(select_data, {'spalten': ui_spalten}); \n",
    "    display(widgets.VBox([ui_spalten, out]))\n",
    "    \n",
    "tab = widgets.Tab(children = [out1, out2], layout=Layout(width='70%'))\n",
    "tab.set_title(0, 'Daten')\n",
    "tab.set_title(1, 'Grafik')\n",
    "display(tab)"
   ]
  },
  {
   "cell_type": "code",
   "execution_count": 24,
   "id": "c7db27fc",
   "metadata": {
    "tags": []
   },
   "outputs": [
    {
     "data": {
      "application/vnd.jupyter.widget-view+json": {
       "model_id": "87aac8922dd248af95ff6c1d18907365",
       "version_major": 2,
       "version_minor": 0
      },
      "text/plain": [
       "VBox(children=(FloatSlider(value=6.283185307179586, description='xmax', max=6.283185307179586, min=1.570796326…"
      ]
     },
     "metadata": {},
     "output_type": "display_data"
    }
   ],
   "source": [
    "def myplot(xmax):\n",
    "     x = arange(0, xmax, 0.01)\n",
    "     y = sin(2*pi*x)\n",
    "     plt.plot(x,y)\n",
    "ui_xmax = widgets.FloatSlider(description='xmax', value=10, min=pi/2, max=2*pi);\n",
    "out = widgets.interactive_output(myplot, {'xmax': ui_xmax}); \n",
    "display(widgets.VBox([ui_xmax,out], layout=Layout(width='50%',border='1px dotted blue')))"
   ]
  },
  {
   "cell_type": "code",
   "execution_count": 25,
   "id": "845a0190",
   "metadata": {
    "tags": []
   },
   "outputs": [],
   "source": [
    "import pandas as pd\n",
    "import ipywidgets as widgets\n",
    "def display_dataframe(df, rows=6, cols=6):\n",
    "  with pd.option_context('display.max_rows', rows, \n",
    "                         'display.max_columns', cols):  \n",
    "                         display(df)\n",
    "def select_data(spalten): \n",
    "    df2 = df.loc[:,spalten];  \n",
    "    ax = df2.plot(); \n",
    "    ax.set_ylabel('Tägl. Verbrauch (GWh)'); "
   ]
  },
  {
   "cell_type": "code",
   "execution_count": 26,
   "id": "5ead1006",
   "metadata": {
    "tags": []
   },
   "outputs": [
    {
     "data": {
      "application/vnd.jupyter.widget-view+json": {
       "model_id": "3a79081fe3a74f5994372d766425859a",
       "version_major": 2,
       "version_minor": 0
      },
      "text/plain": [
       "Tab(children=(Output(), Output()), layout=Layout(width='70%'), selected_index=0, titles=('Daten', 'Grafik'))"
      ]
     },
     "metadata": {},
     "output_type": "display_data"
    }
   ],
   "source": [
    "from ipywidgets import Output, Layout, Dropdown, Tab, VBox\n",
    "from ipywidgets import interactive_output\n",
    "out1, out2 = Output(), Output()\n",
    "with out1:\n",
    "  file = 'https://elab2go.de/demo-py5/opsd_2018.csv'\n",
    "  df = pd.read_csv(file, header=0, sep = \",\", \n",
    "                   index_col=0, parse_dates=True) \n",
    "  display_dataframe(df)\n",
    "with out2: \n",
    "  ui_spalten = Dropdown(description='Auswahl:', \n",
    "                        options=df.columns[0:], value='Verbrauch', \n",
    "                        layout=Layout(width='auto'))\n",
    "  out = interactive_output(select_data, {'spalten': ui_spalten}); \n",
    "  display(VBox([ui_spalten, out]))\n",
    "    \n",
    "tab = Tab(children = [out1, out2], \n",
    "          layout=Layout(width='70%'))\n",
    "tab.set_title(0, 'Daten')\n",
    "tab.set_title(1, 'Grafik')\n",
    "display(tab)"
   ]
  }
 ],
 "metadata": {
  "kernelspec": {
   "display_name": "Python 3 (ipykernel)",
   "language": "python",
   "name": "python3"
  },
  "language_info": {
   "codemirror_mode": {
    "name": "ipython",
    "version": 3
   },
   "file_extension": ".py",
   "mimetype": "text/x-python",
   "name": "python",
   "nbconvert_exporter": "python",
   "pygments_lexer": "ipython3",
   "version": "3.9.17"
  }
 },
 "nbformat": 4,
 "nbformat_minor": 5
}
